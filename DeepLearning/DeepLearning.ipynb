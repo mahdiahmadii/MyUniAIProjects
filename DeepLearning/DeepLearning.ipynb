{
  "cells": [
    {
      "cell_type": "code",
      "execution_count": 2,
      "metadata": {
        "id": "X80iffOpMOqp"
      },
      "outputs": [],
      "source": [
        "import kagglehub\n",
        "import tensorflow as tf\n",
        "from tensorflow.keras.applications import VGG16\n",
        "from tensorflow.keras.layers import Dense, Dropout, GlobalAveragePooling2D\n",
        "from tensorflow.keras.models import Model\n",
        "from tensorflow.keras.preprocessing.image import ImageDataGenerator\n",
        "from tensorflow.keras.optimizers import Adam\n",
        "from tensorflow.keras.callbacks import EarlyStopping, ReduceLROnPlateau\n",
        "import numpy as np\n",
        "import matplotlib.pyplot as plt\n",
        "import seaborn as sns\n",
        "from sklearn.metrics import confusion_matrix, classification_report\n",
        "import os\n",
        "import warnings"
      ]
    },
    {
      "cell_type": "code",
      "execution_count": 3,
      "metadata": {
        "id": "ty7mDI-mMVnH"
      },
      "outputs": [],
      "source": [
        "warnings.filterwarnings('ignore')\n",
        "\n",
        "tf.random.set_seed(42)\n",
        "np.random.seed(42)"
      ]
    },
    {
      "cell_type": "code",
      "execution_count": 4,
      "metadata": {
        "colab": {
          "base_uri": "https://localhost:8080/"
        },
        "id": "yW5p9XOCMeRo",
        "outputId": "5ddcf9a6-0e0d-4497-96d2-480212c89989"
      },
      "outputs": [
        {
          "name": "stdout",
          "output_type": "stream",
          "text": [
            "TensorFlow version: 2.18.0\n",
            "GPU available: [PhysicalDevice(name='/physical_device:GPU:0', device_type='GPU')]\n"
          ]
        }
      ],
      "source": [
        "\n",
        "print(\"TensorFlow version:\", tf.__version__)\n",
        "print(\"GPU available:\", tf.config.list_physical_devices('GPU'))"
      ]
    },
    {
      "cell_type": "code",
      "execution_count": 5,
      "metadata": {
        "colab": {
          "base_uri": "https://localhost:8080/"
        },
        "id": "fLfGtxa0Mfdt",
        "outputId": "2ee4d195-2cf0-49f7-842a-05ec78653aff"
      },
      "outputs": [
        {
          "name": "stdout",
          "output_type": "stream",
          "text": [
            "Path to dataset files: /kaggle/input/fire-dataset\n"
          ]
        }
      ],
      "source": [
        "path = kagglehub.dataset_download(\"phylake1337/fire-dataset\")\n",
        "print(\"Path to dataset files:\", path)"
      ]
    },
    {
      "cell_type": "code",
      "execution_count": 6,
      "metadata": {
        "id": "HkuUbD-hMt7q"
      },
      "outputs": [],
      "source": [
        "path = path + '/fire_dataset'"
      ]
    },
    {
      "cell_type": "code",
      "execution_count": 7,
      "metadata": {
        "colab": {
          "base_uri": "https://localhost:8080/"
        },
        "id": "10QDmT_YMiJR",
        "outputId": "f7a0a4e8-55c7-4731-c042-c04f366bd87b"
      },
      "outputs": [
        {
          "name": "stdout",
          "output_type": "stream",
          "text": [
            "Dataset structure:\n",
            "fire_dataset/\n",
            "  non_fire_images/\n",
            "    non_fire.154.png\n",
            "    non_fire.115.png\n",
            "    non_fire.59.png\n",
            "    non_fire.58.png\n",
            "    non_fire.166.png\n",
            "    ... and 239 more files\n",
            "  fire_images/\n",
            "    fire.743.png\n",
            "    fire.717.png\n",
            "    fire.157.png\n",
            "    fire.26.png\n",
            "    fire.314.png\n",
            "    ... and 750 more files\n"
          ]
        }
      ],
      "source": [
        "print(\"Dataset structure:\")\n",
        "for root,dirs,files in os.walk(path):\n",
        "    level = root.replace(path, '').count(os.sep)\n",
        "    indent = ' ' * 2 * level\n",
        "    print(f\"{indent}{os.path.basename(root)}/\")\n",
        "    subindent = ' ' *2* (level + 1)\n",
        "    for file in files[:5]:\n",
        "        print(f\"{subindent}{file}\")\n",
        "    if len(files) > 5:\n",
        "        print(f\"{subindent}... and {len(files) - 5} more files\")"
      ]
    },
    {
      "cell_type": "code",
      "execution_count": 8,
      "metadata": {
        "colab": {
          "base_uri": "https://localhost:8080/"
        },
        "id": "kbG3hLRzMlnd",
        "outputId": "9e88cf8e-1c17-4f36-dc9e-9e7f7cfa1a04"
      },
      "outputs": [
        {
          "name": "stdout",
          "output_type": "stream",
          "text": [
            "\n",
            "Dataset Statistics:\n",
            "Fire images: 755\n",
            "Non-fire images: 244\n",
            "Total images: 999\n"
          ]
        }
      ],
      "source": [
        "fire_path = os.path.join(path, 'fire_images')\n",
        "non_fire_path = os.path.join(path, 'non_fire_images')\n",
        "\n",
        "fire_count = len([f for f in os.listdir(fire_path) if f.lower().endswith(('.png', '.jpg', '.jpeg'))])\n",
        "non_fire_count = len([f for f in os.listdir(non_fire_path) if f.lower().endswith(('.png', '.jpg', '.jpeg'))])\n",
        "\n",
        "print(f\"\\nDataset Statistics:\")\n",
        "print(f\"Fire images: {fire_count}\")\n",
        "print(f\"Non-fire images: {non_fire_count}\")\n",
        "print(f\"Total images: {fire_count + non_fire_count}\")"
      ]
    },
    {
      "cell_type": "code",
      "execution_count": 18,
      "metadata": {
        "colab": {
          "base_uri": "https://localhost:8080/"
        },
        "id": "3uT3V7mjMpqK",
        "outputId": "7370952e-fc49-4dcc-8112-b1d623fff3cb"
      },
      "outputs": [
        {
          "name": "stdout",
          "output_type": "stream",
          "text": [
            "Data generators created successfully!\n"
          ]
        }
      ],
      "source": [
        "\n",
        "\n",
        "IMG_HEIGHT = 224\n",
        "IMG_WIDTH = 224\n",
        "BATCH_SIZE = 32\n",
        "VALIDATION_SPLIT = 0.2\n",
        "\n",
        "\n",
        "train_datagen = ImageDataGenerator(\n",
        "    rescale=1./255,\n",
        "    validation_split=VALIDATION_SPLIT,\n",
        "    rotation_range=20,\n",
        "    width_shift_range=0.2,\n",
        "    height_shift_range=0.2,\n",
        "    horizontal_flip=True,\n",
        "    zoom_range=0.2,\n",
        "    shear_range=0.2,\n",
        "    brightness_range=[0.8, 1.2],\n",
        "    fill_mode='nearest'\n",
        ")\n",
        "\n",
        "validation_datagen = ImageDataGenerator(\n",
        "    rescale=1./255,\n",
        "    validation_split=VALIDATION_SPLIT/2\n",
        ")\n",
        "test_datagen = ImageDataGenerator(\n",
        "    rescale=1./255\n",
        "    validation_split = VALIDATION_SPLIT/2)\n",
        "print(\"Data generators created successfully!\")\n"
      ]
    },
    {
      "cell_type": "code",
      "execution_count": 19,
      "metadata": {
        "colab": {
          "base_uri": "https://localhost:8080/"
        },
        "id": "Dwhb6leMN_qR",
        "outputId": "6af691e9-281a-478c-9878-a12db2f16263"
      },
      "outputs": [
        {
          "name": "stdout",
          "output_type": "stream",
          "text": [
            "Found 800 images belonging to 2 classes.\n",
            "Found 199 images belonging to 2 classes.\n"
          ]
        }
      ],
      "source": [
        "\n",
        "\n",
        "train_generator = train_datagen.flow_from_directory(\n",
        "    path,\n",
        "    target_size=(IMG_HEIGHT, IMG_WIDTH),\n",
        "    batch_size=BATCH_SIZE,\n",
        "    class_mode='binary',\n",
        "    subset='training',\n",
        "    shuffle=True,\n",
        "    seed=42\n",
        ")\n",
        "\n",
        "\n",
        "validation_generator = validation_datagen.flow_from_directory(\n",
        "    path,\n",
        "    target_size=(IMG_HEIGHT, IMG_WIDTH),\n",
        "    batch_size=BATCH_SIZE,\n",
        "    class_mode='binary',\n",
        "    subset='validation',\n",
        "    shuffle=False,\n",
        "    seed=42\n",
        ")\n",
        "\n",
        "\n",
        "test_gen = test_datagen.flow_from_directory(\n",
        "    \"images/test\",\n",
        "    target_size=(IMG_HEIGHT, IMG_WIDTH),\n",
        "    batch_size=BATCH_SIZE,\n",
        "    class_mode='binary',\n",
        "    subset='test',\n",
        "    shuffle=False\n",
        "    seed=42\n",
        ")"
      ]
    },
    {
      "cell_type": "code",
      "execution_count": 20,
      "metadata": {
        "id": "iq_Xupa6OS-P"
      },
      "outputs": [],
      "source": [
        "\n",
        "# # Print class indices\n",
        "# print(\"Class indices:\", train_generator.class_indices)\n",
        "# print(f\"Training samples: {train_generator.samples}\")\n",
        "# print(f\"Validation samples: {validation_generator.samples}\")\n"
      ]
    },
    {
      "cell_type": "code",
      "execution_count": 21,
      "metadata": {
        "colab": {
          "base_uri": "https://localhost:8080/"
        },
        "id": "gJNUj3TAOVf0",
        "outputId": "85e01868-3ae6-41a6-dadf-507212283ed8"
      },
      "outputs": [
        {
          "name": "stdout",
          "output_type": "stream",
          "text": [
            "Base model loaded with 19 layers\n",
            "All convolutional layers frozen\n",
            "\n",
            "Model architecture:\n",
            "Total layers: 25\n",
            "Trainable layers: 6\n"
          ]
        }
      ],
      "source": [
        "base_model = VGG16(\n",
        "    weights='imagenet',\n",
        "    include_top=False,\n",
        "    input_shape=(IMG_HEIGHT, IMG_WIDTH, 3)\n",
        ")\n",
        "\n",
        "\n",
        "for layer in base_model.layers:\n",
        "    layer.trainable = False\n",
        "\n",
        "print(f\"Base model loaded with {len(base_model.layers)} layers\")\n",
        "print(\"All convolutional layers frozen\")\n",
        "\n",
        "x = base_model.output\n",
        "x = GlobalAveragePooling2D()(x)\n",
        "x = Dense(512, activation='relu', name='fc1')(x)\n",
        "x = Dropout(0.5)(x)\n",
        "x = Dense(256, activation='relu', name='fc2')(x)\n",
        "x = Dropout(0.3)(x)\n",
        "predictions = Dense(1, activation='sigmoid', name='predictions')(x)\n",
        "\n",
        "\n",
        "model = Model(inputs=base_model.input, outputs=predictions)\n",
        "\n",
        "print(\"\\nModel architecture:\")\n",
        "print(f\"Total layers: {len(model.layers)}\")\n",
        "print(f\"Trainable layers: {len([layer for layer in model.layers if layer.trainable])}\")\n",
        "\n"
      ]
    },
    {
      "cell_type": "code",
      "execution_count": 22,
      "metadata": {
        "colab": {
          "base_uri": "https://localhost:8080/",
          "height": 945
        },
        "id": "xvJBNp65Ok2x",
        "outputId": "723fba8a-9bf5-4b6f-b125-9bb64380fafc"
      },
      "outputs": [
        {
          "data": {
            "text/html": [
              "<pre style=\"white-space:pre;overflow-x:auto;line-height:normal;font-family:Menlo,'DejaVu Sans Mono',consolas,'Courier New',monospace\"><span style=\"font-weight: bold\">Model: \"functional_1\"</span>\n",
              "</pre>\n"
            ],
            "text/plain": [
              "\u001b[1mModel: \"functional_1\"\u001b[0m\n"
            ]
          },
          "metadata": {},
          "output_type": "display_data"
        },
        {
          "data": {
            "text/html": [
              "<pre style=\"white-space:pre;overflow-x:auto;line-height:normal;font-family:Menlo,'DejaVu Sans Mono',consolas,'Courier New',monospace\">┏━━━━━━━━━━━━━━━━━━━━━━━━━━━━━━━━━┳━━━━━━━━━━━━━━━━━━━━━━━━┳━━━━━━━━━━━━━━━┓\n",
              "┃<span style=\"font-weight: bold\"> Layer (type)                    </span>┃<span style=\"font-weight: bold\"> Output Shape           </span>┃<span style=\"font-weight: bold\">       Param # </span>┃\n",
              "┡━━━━━━━━━━━━━━━━━━━━━━━━━━━━━━━━━╇━━━━━━━━━━━━━━━━━━━━━━━━╇━━━━━━━━━━━━━━━┩\n",
              "│ input_layer_1 (<span style=\"color: #0087ff; text-decoration-color: #0087ff\">InputLayer</span>)      │ (<span style=\"color: #00d7ff; text-decoration-color: #00d7ff\">None</span>, <span style=\"color: #00af00; text-decoration-color: #00af00\">224</span>, <span style=\"color: #00af00; text-decoration-color: #00af00\">224</span>, <span style=\"color: #00af00; text-decoration-color: #00af00\">3</span>)    │             <span style=\"color: #00af00; text-decoration-color: #00af00\">0</span> │\n",
              "├─────────────────────────────────┼────────────────────────┼───────────────┤\n",
              "│ block1_conv1 (<span style=\"color: #0087ff; text-decoration-color: #0087ff\">Conv2D</span>)           │ (<span style=\"color: #00d7ff; text-decoration-color: #00d7ff\">None</span>, <span style=\"color: #00af00; text-decoration-color: #00af00\">224</span>, <span style=\"color: #00af00; text-decoration-color: #00af00\">224</span>, <span style=\"color: #00af00; text-decoration-color: #00af00\">64</span>)   │         <span style=\"color: #00af00; text-decoration-color: #00af00\">1,792</span> │\n",
              "├─────────────────────────────────┼────────────────────────┼───────────────┤\n",
              "│ block1_conv2 (<span style=\"color: #0087ff; text-decoration-color: #0087ff\">Conv2D</span>)           │ (<span style=\"color: #00d7ff; text-decoration-color: #00d7ff\">None</span>, <span style=\"color: #00af00; text-decoration-color: #00af00\">224</span>, <span style=\"color: #00af00; text-decoration-color: #00af00\">224</span>, <span style=\"color: #00af00; text-decoration-color: #00af00\">64</span>)   │        <span style=\"color: #00af00; text-decoration-color: #00af00\">36,928</span> │\n",
              "├─────────────────────────────────┼────────────────────────┼───────────────┤\n",
              "│ block1_pool (<span style=\"color: #0087ff; text-decoration-color: #0087ff\">MaxPooling2D</span>)      │ (<span style=\"color: #00d7ff; text-decoration-color: #00d7ff\">None</span>, <span style=\"color: #00af00; text-decoration-color: #00af00\">112</span>, <span style=\"color: #00af00; text-decoration-color: #00af00\">112</span>, <span style=\"color: #00af00; text-decoration-color: #00af00\">64</span>)   │             <span style=\"color: #00af00; text-decoration-color: #00af00\">0</span> │\n",
              "├─────────────────────────────────┼────────────────────────┼───────────────┤\n",
              "│ block2_conv1 (<span style=\"color: #0087ff; text-decoration-color: #0087ff\">Conv2D</span>)           │ (<span style=\"color: #00d7ff; text-decoration-color: #00d7ff\">None</span>, <span style=\"color: #00af00; text-decoration-color: #00af00\">112</span>, <span style=\"color: #00af00; text-decoration-color: #00af00\">112</span>, <span style=\"color: #00af00; text-decoration-color: #00af00\">128</span>)  │        <span style=\"color: #00af00; text-decoration-color: #00af00\">73,856</span> │\n",
              "├─────────────────────────────────┼────────────────────────┼───────────────┤\n",
              "│ block2_conv2 (<span style=\"color: #0087ff; text-decoration-color: #0087ff\">Conv2D</span>)           │ (<span style=\"color: #00d7ff; text-decoration-color: #00d7ff\">None</span>, <span style=\"color: #00af00; text-decoration-color: #00af00\">112</span>, <span style=\"color: #00af00; text-decoration-color: #00af00\">112</span>, <span style=\"color: #00af00; text-decoration-color: #00af00\">128</span>)  │       <span style=\"color: #00af00; text-decoration-color: #00af00\">147,584</span> │\n",
              "├─────────────────────────────────┼────────────────────────┼───────────────┤\n",
              "│ block2_pool (<span style=\"color: #0087ff; text-decoration-color: #0087ff\">MaxPooling2D</span>)      │ (<span style=\"color: #00d7ff; text-decoration-color: #00d7ff\">None</span>, <span style=\"color: #00af00; text-decoration-color: #00af00\">56</span>, <span style=\"color: #00af00; text-decoration-color: #00af00\">56</span>, <span style=\"color: #00af00; text-decoration-color: #00af00\">128</span>)    │             <span style=\"color: #00af00; text-decoration-color: #00af00\">0</span> │\n",
              "├─────────────────────────────────┼────────────────────────┼───────────────┤\n",
              "│ block3_conv1 (<span style=\"color: #0087ff; text-decoration-color: #0087ff\">Conv2D</span>)           │ (<span style=\"color: #00d7ff; text-decoration-color: #00d7ff\">None</span>, <span style=\"color: #00af00; text-decoration-color: #00af00\">56</span>, <span style=\"color: #00af00; text-decoration-color: #00af00\">56</span>, <span style=\"color: #00af00; text-decoration-color: #00af00\">256</span>)    │       <span style=\"color: #00af00; text-decoration-color: #00af00\">295,168</span> │\n",
              "├─────────────────────────────────┼────────────────────────┼───────────────┤\n",
              "│ block3_conv2 (<span style=\"color: #0087ff; text-decoration-color: #0087ff\">Conv2D</span>)           │ (<span style=\"color: #00d7ff; text-decoration-color: #00d7ff\">None</span>, <span style=\"color: #00af00; text-decoration-color: #00af00\">56</span>, <span style=\"color: #00af00; text-decoration-color: #00af00\">56</span>, <span style=\"color: #00af00; text-decoration-color: #00af00\">256</span>)    │       <span style=\"color: #00af00; text-decoration-color: #00af00\">590,080</span> │\n",
              "├─────────────────────────────────┼────────────────────────┼───────────────┤\n",
              "│ block3_conv3 (<span style=\"color: #0087ff; text-decoration-color: #0087ff\">Conv2D</span>)           │ (<span style=\"color: #00d7ff; text-decoration-color: #00d7ff\">None</span>, <span style=\"color: #00af00; text-decoration-color: #00af00\">56</span>, <span style=\"color: #00af00; text-decoration-color: #00af00\">56</span>, <span style=\"color: #00af00; text-decoration-color: #00af00\">256</span>)    │       <span style=\"color: #00af00; text-decoration-color: #00af00\">590,080</span> │\n",
              "├─────────────────────────────────┼────────────────────────┼───────────────┤\n",
              "│ block3_pool (<span style=\"color: #0087ff; text-decoration-color: #0087ff\">MaxPooling2D</span>)      │ (<span style=\"color: #00d7ff; text-decoration-color: #00d7ff\">None</span>, <span style=\"color: #00af00; text-decoration-color: #00af00\">28</span>, <span style=\"color: #00af00; text-decoration-color: #00af00\">28</span>, <span style=\"color: #00af00; text-decoration-color: #00af00\">256</span>)    │             <span style=\"color: #00af00; text-decoration-color: #00af00\">0</span> │\n",
              "├─────────────────────────────────┼────────────────────────┼───────────────┤\n",
              "│ block4_conv1 (<span style=\"color: #0087ff; text-decoration-color: #0087ff\">Conv2D</span>)           │ (<span style=\"color: #00d7ff; text-decoration-color: #00d7ff\">None</span>, <span style=\"color: #00af00; text-decoration-color: #00af00\">28</span>, <span style=\"color: #00af00; text-decoration-color: #00af00\">28</span>, <span style=\"color: #00af00; text-decoration-color: #00af00\">512</span>)    │     <span style=\"color: #00af00; text-decoration-color: #00af00\">1,180,160</span> │\n",
              "├─────────────────────────────────┼────────────────────────┼───────────────┤\n",
              "│ block4_conv2 (<span style=\"color: #0087ff; text-decoration-color: #0087ff\">Conv2D</span>)           │ (<span style=\"color: #00d7ff; text-decoration-color: #00d7ff\">None</span>, <span style=\"color: #00af00; text-decoration-color: #00af00\">28</span>, <span style=\"color: #00af00; text-decoration-color: #00af00\">28</span>, <span style=\"color: #00af00; text-decoration-color: #00af00\">512</span>)    │     <span style=\"color: #00af00; text-decoration-color: #00af00\">2,359,808</span> │\n",
              "├─────────────────────────────────┼────────────────────────┼───────────────┤\n",
              "│ block4_conv3 (<span style=\"color: #0087ff; text-decoration-color: #0087ff\">Conv2D</span>)           │ (<span style=\"color: #00d7ff; text-decoration-color: #00d7ff\">None</span>, <span style=\"color: #00af00; text-decoration-color: #00af00\">28</span>, <span style=\"color: #00af00; text-decoration-color: #00af00\">28</span>, <span style=\"color: #00af00; text-decoration-color: #00af00\">512</span>)    │     <span style=\"color: #00af00; text-decoration-color: #00af00\">2,359,808</span> │\n",
              "├─────────────────────────────────┼────────────────────────┼───────────────┤\n",
              "│ block4_pool (<span style=\"color: #0087ff; text-decoration-color: #0087ff\">MaxPooling2D</span>)      │ (<span style=\"color: #00d7ff; text-decoration-color: #00d7ff\">None</span>, <span style=\"color: #00af00; text-decoration-color: #00af00\">14</span>, <span style=\"color: #00af00; text-decoration-color: #00af00\">14</span>, <span style=\"color: #00af00; text-decoration-color: #00af00\">512</span>)    │             <span style=\"color: #00af00; text-decoration-color: #00af00\">0</span> │\n",
              "├─────────────────────────────────┼────────────────────────┼───────────────┤\n",
              "│ block5_conv1 (<span style=\"color: #0087ff; text-decoration-color: #0087ff\">Conv2D</span>)           │ (<span style=\"color: #00d7ff; text-decoration-color: #00d7ff\">None</span>, <span style=\"color: #00af00; text-decoration-color: #00af00\">14</span>, <span style=\"color: #00af00; text-decoration-color: #00af00\">14</span>, <span style=\"color: #00af00; text-decoration-color: #00af00\">512</span>)    │     <span style=\"color: #00af00; text-decoration-color: #00af00\">2,359,808</span> │\n",
              "├─────────────────────────────────┼────────────────────────┼───────────────┤\n",
              "│ block5_conv2 (<span style=\"color: #0087ff; text-decoration-color: #0087ff\">Conv2D</span>)           │ (<span style=\"color: #00d7ff; text-decoration-color: #00d7ff\">None</span>, <span style=\"color: #00af00; text-decoration-color: #00af00\">14</span>, <span style=\"color: #00af00; text-decoration-color: #00af00\">14</span>, <span style=\"color: #00af00; text-decoration-color: #00af00\">512</span>)    │     <span style=\"color: #00af00; text-decoration-color: #00af00\">2,359,808</span> │\n",
              "├─────────────────────────────────┼────────────────────────┼───────────────┤\n",
              "│ block5_conv3 (<span style=\"color: #0087ff; text-decoration-color: #0087ff\">Conv2D</span>)           │ (<span style=\"color: #00d7ff; text-decoration-color: #00d7ff\">None</span>, <span style=\"color: #00af00; text-decoration-color: #00af00\">14</span>, <span style=\"color: #00af00; text-decoration-color: #00af00\">14</span>, <span style=\"color: #00af00; text-decoration-color: #00af00\">512</span>)    │     <span style=\"color: #00af00; text-decoration-color: #00af00\">2,359,808</span> │\n",
              "├─────────────────────────────────┼────────────────────────┼───────────────┤\n",
              "│ block5_pool (<span style=\"color: #0087ff; text-decoration-color: #0087ff\">MaxPooling2D</span>)      │ (<span style=\"color: #00d7ff; text-decoration-color: #00d7ff\">None</span>, <span style=\"color: #00af00; text-decoration-color: #00af00\">7</span>, <span style=\"color: #00af00; text-decoration-color: #00af00\">7</span>, <span style=\"color: #00af00; text-decoration-color: #00af00\">512</span>)      │             <span style=\"color: #00af00; text-decoration-color: #00af00\">0</span> │\n",
              "├─────────────────────────────────┼────────────────────────┼───────────────┤\n",
              "│ global_average_pooling2d_1      │ (<span style=\"color: #00d7ff; text-decoration-color: #00d7ff\">None</span>, <span style=\"color: #00af00; text-decoration-color: #00af00\">512</span>)            │             <span style=\"color: #00af00; text-decoration-color: #00af00\">0</span> │\n",
              "│ (<span style=\"color: #0087ff; text-decoration-color: #0087ff\">GlobalAveragePooling2D</span>)        │                        │               │\n",
              "├─────────────────────────────────┼────────────────────────┼───────────────┤\n",
              "│ fc1 (<span style=\"color: #0087ff; text-decoration-color: #0087ff\">Dense</span>)                     │ (<span style=\"color: #00d7ff; text-decoration-color: #00d7ff\">None</span>, <span style=\"color: #00af00; text-decoration-color: #00af00\">512</span>)            │       <span style=\"color: #00af00; text-decoration-color: #00af00\">262,656</span> │\n",
              "├─────────────────────────────────┼────────────────────────┼───────────────┤\n",
              "│ dropout_2 (<span style=\"color: #0087ff; text-decoration-color: #0087ff\">Dropout</span>)             │ (<span style=\"color: #00d7ff; text-decoration-color: #00d7ff\">None</span>, <span style=\"color: #00af00; text-decoration-color: #00af00\">512</span>)            │             <span style=\"color: #00af00; text-decoration-color: #00af00\">0</span> │\n",
              "├─────────────────────────────────┼────────────────────────┼───────────────┤\n",
              "│ fc2 (<span style=\"color: #0087ff; text-decoration-color: #0087ff\">Dense</span>)                     │ (<span style=\"color: #00d7ff; text-decoration-color: #00d7ff\">None</span>, <span style=\"color: #00af00; text-decoration-color: #00af00\">256</span>)            │       <span style=\"color: #00af00; text-decoration-color: #00af00\">131,328</span> │\n",
              "├─────────────────────────────────┼────────────────────────┼───────────────┤\n",
              "│ dropout_3 (<span style=\"color: #0087ff; text-decoration-color: #0087ff\">Dropout</span>)             │ (<span style=\"color: #00d7ff; text-decoration-color: #00d7ff\">None</span>, <span style=\"color: #00af00; text-decoration-color: #00af00\">256</span>)            │             <span style=\"color: #00af00; text-decoration-color: #00af00\">0</span> │\n",
              "├─────────────────────────────────┼────────────────────────┼───────────────┤\n",
              "│ predictions (<span style=\"color: #0087ff; text-decoration-color: #0087ff\">Dense</span>)             │ (<span style=\"color: #00d7ff; text-decoration-color: #00d7ff\">None</span>, <span style=\"color: #00af00; text-decoration-color: #00af00\">1</span>)              │           <span style=\"color: #00af00; text-decoration-color: #00af00\">257</span> │\n",
              "└─────────────────────────────────┴────────────────────────┴───────────────┘\n",
              "</pre>\n"
            ],
            "text/plain": [
              "┏━━━━━━━━━━━━━━━━━━━━━━━━━━━━━━━━━┳━━━━━━━━━━━━━━━━━━━━━━━━┳━━━━━━━━━━━━━━━┓\n",
              "┃\u001b[1m \u001b[0m\u001b[1mLayer (type)                   \u001b[0m\u001b[1m \u001b[0m┃\u001b[1m \u001b[0m\u001b[1mOutput Shape          \u001b[0m\u001b[1m \u001b[0m┃\u001b[1m \u001b[0m\u001b[1m      Param #\u001b[0m\u001b[1m \u001b[0m┃\n",
              "┡━━━━━━━━━━━━━━━━━━━━━━━━━━━━━━━━━╇━━━━━━━━━━━━━━━━━━━━━━━━╇━━━━━━━━━━━━━━━┩\n",
              "│ input_layer_1 (\u001b[38;5;33mInputLayer\u001b[0m)      │ (\u001b[38;5;45mNone\u001b[0m, \u001b[38;5;34m224\u001b[0m, \u001b[38;5;34m224\u001b[0m, \u001b[38;5;34m3\u001b[0m)    │             \u001b[38;5;34m0\u001b[0m │\n",
              "├─────────────────────────────────┼────────────────────────┼───────────────┤\n",
              "│ block1_conv1 (\u001b[38;5;33mConv2D\u001b[0m)           │ (\u001b[38;5;45mNone\u001b[0m, \u001b[38;5;34m224\u001b[0m, \u001b[38;5;34m224\u001b[0m, \u001b[38;5;34m64\u001b[0m)   │         \u001b[38;5;34m1,792\u001b[0m │\n",
              "├─────────────────────────────────┼────────────────────────┼───────────────┤\n",
              "│ block1_conv2 (\u001b[38;5;33mConv2D\u001b[0m)           │ (\u001b[38;5;45mNone\u001b[0m, \u001b[38;5;34m224\u001b[0m, \u001b[38;5;34m224\u001b[0m, \u001b[38;5;34m64\u001b[0m)   │        \u001b[38;5;34m36,928\u001b[0m │\n",
              "├─────────────────────────────────┼────────────────────────┼───────────────┤\n",
              "│ block1_pool (\u001b[38;5;33mMaxPooling2D\u001b[0m)      │ (\u001b[38;5;45mNone\u001b[0m, \u001b[38;5;34m112\u001b[0m, \u001b[38;5;34m112\u001b[0m, \u001b[38;5;34m64\u001b[0m)   │             \u001b[38;5;34m0\u001b[0m │\n",
              "├─────────────────────────────────┼────────────────────────┼───────────────┤\n",
              "│ block2_conv1 (\u001b[38;5;33mConv2D\u001b[0m)           │ (\u001b[38;5;45mNone\u001b[0m, \u001b[38;5;34m112\u001b[0m, \u001b[38;5;34m112\u001b[0m, \u001b[38;5;34m128\u001b[0m)  │        \u001b[38;5;34m73,856\u001b[0m │\n",
              "├─────────────────────────────────┼────────────────────────┼───────────────┤\n",
              "│ block2_conv2 (\u001b[38;5;33mConv2D\u001b[0m)           │ (\u001b[38;5;45mNone\u001b[0m, \u001b[38;5;34m112\u001b[0m, \u001b[38;5;34m112\u001b[0m, \u001b[38;5;34m128\u001b[0m)  │       \u001b[38;5;34m147,584\u001b[0m │\n",
              "├─────────────────────────────────┼────────────────────────┼───────────────┤\n",
              "│ block2_pool (\u001b[38;5;33mMaxPooling2D\u001b[0m)      │ (\u001b[38;5;45mNone\u001b[0m, \u001b[38;5;34m56\u001b[0m, \u001b[38;5;34m56\u001b[0m, \u001b[38;5;34m128\u001b[0m)    │             \u001b[38;5;34m0\u001b[0m │\n",
              "├─────────────────────────────────┼────────────────────────┼───────────────┤\n",
              "│ block3_conv1 (\u001b[38;5;33mConv2D\u001b[0m)           │ (\u001b[38;5;45mNone\u001b[0m, \u001b[38;5;34m56\u001b[0m, \u001b[38;5;34m56\u001b[0m, \u001b[38;5;34m256\u001b[0m)    │       \u001b[38;5;34m295,168\u001b[0m │\n",
              "├─────────────────────────────────┼────────────────────────┼───────────────┤\n",
              "│ block3_conv2 (\u001b[38;5;33mConv2D\u001b[0m)           │ (\u001b[38;5;45mNone\u001b[0m, \u001b[38;5;34m56\u001b[0m, \u001b[38;5;34m56\u001b[0m, \u001b[38;5;34m256\u001b[0m)    │       \u001b[38;5;34m590,080\u001b[0m │\n",
              "├─────────────────────────────────┼────────────────────────┼───────────────┤\n",
              "│ block3_conv3 (\u001b[38;5;33mConv2D\u001b[0m)           │ (\u001b[38;5;45mNone\u001b[0m, \u001b[38;5;34m56\u001b[0m, \u001b[38;5;34m56\u001b[0m, \u001b[38;5;34m256\u001b[0m)    │       \u001b[38;5;34m590,080\u001b[0m │\n",
              "├─────────────────────────────────┼────────────────────────┼───────────────┤\n",
              "│ block3_pool (\u001b[38;5;33mMaxPooling2D\u001b[0m)      │ (\u001b[38;5;45mNone\u001b[0m, \u001b[38;5;34m28\u001b[0m, \u001b[38;5;34m28\u001b[0m, \u001b[38;5;34m256\u001b[0m)    │             \u001b[38;5;34m0\u001b[0m │\n",
              "├─────────────────────────────────┼────────────────────────┼───────────────┤\n",
              "│ block4_conv1 (\u001b[38;5;33mConv2D\u001b[0m)           │ (\u001b[38;5;45mNone\u001b[0m, \u001b[38;5;34m28\u001b[0m, \u001b[38;5;34m28\u001b[0m, \u001b[38;5;34m512\u001b[0m)    │     \u001b[38;5;34m1,180,160\u001b[0m │\n",
              "├─────────────────────────────────┼────────────────────────┼───────────────┤\n",
              "│ block4_conv2 (\u001b[38;5;33mConv2D\u001b[0m)           │ (\u001b[38;5;45mNone\u001b[0m, \u001b[38;5;34m28\u001b[0m, \u001b[38;5;34m28\u001b[0m, \u001b[38;5;34m512\u001b[0m)    │     \u001b[38;5;34m2,359,808\u001b[0m │\n",
              "├─────────────────────────────────┼────────────────────────┼───────────────┤\n",
              "│ block4_conv3 (\u001b[38;5;33mConv2D\u001b[0m)           │ (\u001b[38;5;45mNone\u001b[0m, \u001b[38;5;34m28\u001b[0m, \u001b[38;5;34m28\u001b[0m, \u001b[38;5;34m512\u001b[0m)    │     \u001b[38;5;34m2,359,808\u001b[0m │\n",
              "├─────────────────────────────────┼────────────────────────┼───────────────┤\n",
              "│ block4_pool (\u001b[38;5;33mMaxPooling2D\u001b[0m)      │ (\u001b[38;5;45mNone\u001b[0m, \u001b[38;5;34m14\u001b[0m, \u001b[38;5;34m14\u001b[0m, \u001b[38;5;34m512\u001b[0m)    │             \u001b[38;5;34m0\u001b[0m │\n",
              "├─────────────────────────────────┼────────────────────────┼───────────────┤\n",
              "│ block5_conv1 (\u001b[38;5;33mConv2D\u001b[0m)           │ (\u001b[38;5;45mNone\u001b[0m, \u001b[38;5;34m14\u001b[0m, \u001b[38;5;34m14\u001b[0m, \u001b[38;5;34m512\u001b[0m)    │     \u001b[38;5;34m2,359,808\u001b[0m │\n",
              "├─────────────────────────────────┼────────────────────────┼───────────────┤\n",
              "│ block5_conv2 (\u001b[38;5;33mConv2D\u001b[0m)           │ (\u001b[38;5;45mNone\u001b[0m, \u001b[38;5;34m14\u001b[0m, \u001b[38;5;34m14\u001b[0m, \u001b[38;5;34m512\u001b[0m)    │     \u001b[38;5;34m2,359,808\u001b[0m │\n",
              "├─────────────────────────────────┼────────────────────────┼───────────────┤\n",
              "│ block5_conv3 (\u001b[38;5;33mConv2D\u001b[0m)           │ (\u001b[38;5;45mNone\u001b[0m, \u001b[38;5;34m14\u001b[0m, \u001b[38;5;34m14\u001b[0m, \u001b[38;5;34m512\u001b[0m)    │     \u001b[38;5;34m2,359,808\u001b[0m │\n",
              "├─────────────────────────────────┼────────────────────────┼───────────────┤\n",
              "│ block5_pool (\u001b[38;5;33mMaxPooling2D\u001b[0m)      │ (\u001b[38;5;45mNone\u001b[0m, \u001b[38;5;34m7\u001b[0m, \u001b[38;5;34m7\u001b[0m, \u001b[38;5;34m512\u001b[0m)      │             \u001b[38;5;34m0\u001b[0m │\n",
              "├─────────────────────────────────┼────────────────────────┼───────────────┤\n",
              "│ global_average_pooling2d_1      │ (\u001b[38;5;45mNone\u001b[0m, \u001b[38;5;34m512\u001b[0m)            │             \u001b[38;5;34m0\u001b[0m │\n",
              "│ (\u001b[38;5;33mGlobalAveragePooling2D\u001b[0m)        │                        │               │\n",
              "├─────────────────────────────────┼────────────────────────┼───────────────┤\n",
              "│ fc1 (\u001b[38;5;33mDense\u001b[0m)                     │ (\u001b[38;5;45mNone\u001b[0m, \u001b[38;5;34m512\u001b[0m)            │       \u001b[38;5;34m262,656\u001b[0m │\n",
              "├─────────────────────────────────┼────────────────────────┼───────────────┤\n",
              "│ dropout_2 (\u001b[38;5;33mDropout\u001b[0m)             │ (\u001b[38;5;45mNone\u001b[0m, \u001b[38;5;34m512\u001b[0m)            │             \u001b[38;5;34m0\u001b[0m │\n",
              "├─────────────────────────────────┼────────────────────────┼───────────────┤\n",
              "│ fc2 (\u001b[38;5;33mDense\u001b[0m)                     │ (\u001b[38;5;45mNone\u001b[0m, \u001b[38;5;34m256\u001b[0m)            │       \u001b[38;5;34m131,328\u001b[0m │\n",
              "├─────────────────────────────────┼────────────────────────┼───────────────┤\n",
              "│ dropout_3 (\u001b[38;5;33mDropout\u001b[0m)             │ (\u001b[38;5;45mNone\u001b[0m, \u001b[38;5;34m256\u001b[0m)            │             \u001b[38;5;34m0\u001b[0m │\n",
              "├─────────────────────────────────┼────────────────────────┼───────────────┤\n",
              "│ predictions (\u001b[38;5;33mDense\u001b[0m)             │ (\u001b[38;5;45mNone\u001b[0m, \u001b[38;5;34m1\u001b[0m)              │           \u001b[38;5;34m257\u001b[0m │\n",
              "└─────────────────────────────────┴────────────────────────┴───────────────┘\n"
            ]
          },
          "metadata": {},
          "output_type": "display_data"
        },
        {
          "data": {
            "text/html": [
              "<pre style=\"white-space:pre;overflow-x:auto;line-height:normal;font-family:Menlo,'DejaVu Sans Mono',consolas,'Courier New',monospace\"><span style=\"font-weight: bold\"> Total params: </span><span style=\"color: #00af00; text-decoration-color: #00af00\">15,108,929</span> (57.64 MB)\n",
              "</pre>\n"
            ],
            "text/plain": [
              "\u001b[1m Total params: \u001b[0m\u001b[38;5;34m15,108,929\u001b[0m (57.64 MB)\n"
            ]
          },
          "metadata": {},
          "output_type": "display_data"
        },
        {
          "data": {
            "text/html": [
              "<pre style=\"white-space:pre;overflow-x:auto;line-height:normal;font-family:Menlo,'DejaVu Sans Mono',consolas,'Courier New',monospace\"><span style=\"font-weight: bold\"> Trainable params: </span><span style=\"color: #00af00; text-decoration-color: #00af00\">394,241</span> (1.50 MB)\n",
              "</pre>\n"
            ],
            "text/plain": [
              "\u001b[1m Trainable params: \u001b[0m\u001b[38;5;34m394,241\u001b[0m (1.50 MB)\n"
            ]
          },
          "metadata": {},
          "output_type": "display_data"
        },
        {
          "data": {
            "text/html": [
              "<pre style=\"white-space:pre;overflow-x:auto;line-height:normal;font-family:Menlo,'DejaVu Sans Mono',consolas,'Courier New',monospace\"><span style=\"font-weight: bold\"> Non-trainable params: </span><span style=\"color: #00af00; text-decoration-color: #00af00\">14,714,688</span> (56.13 MB)\n",
              "</pre>\n"
            ],
            "text/plain": [
              "\u001b[1m Non-trainable params: \u001b[0m\u001b[38;5;34m14,714,688\u001b[0m (56.13 MB)\n"
            ]
          },
          "metadata": {},
          "output_type": "display_data"
        }
      ],
      "source": [
        "model.compile(\n",
        "    optimizer=Adam(learning_rate=0.001),\n",
        "    loss='binary_crossentropy',\n",
        "    metrics=['accuracy']\n",
        ")\n",
        "\n",
        "model.summary()"
      ]
    },
    {
      "cell_type": "code",
      "execution_count": 23,
      "metadata": {
        "colab": {
          "base_uri": "https://localhost:8080/"
        },
        "id": "1DIvVGgUOxG3",
        "outputId": "4043ed00-f415-4aaa-e4b5-6b6e0f84dc41"
      },
      "outputs": [
        {
          "name": "stdout",
          "output_type": "stream",
          "text": [
            "Callbacks configured:\n",
            "- Early stopping with patience=10\n",
            "- Learning rate reduction with patience=5\n"
          ]
        }
      ],
      "source": [
        "\n",
        "early_stopping = EarlyStopping(\n",
        "    monitor='val_loss',\n",
        "    patience=10,\n",
        "    restore_best_weights=True,\n",
        "    verbose=1\n",
        ")\n",
        "\n",
        "reduce_lr = ReduceLROnPlateau(\n",
        "    monitor='val_loss',\n",
        "    factor=0.2,\n",
        "    patience=5,\n",
        "    min_lr=1e-7,\n",
        "    verbose=1\n",
        ")\n",
        "\n",
        "callbacks = [early_stopping, reduce_lr]\n",
        "\n",
        "print(\"Callbacks configured:\")\n",
        "print(\"- Early stopping with patience=10\")\n",
        "print(\"- Learning rate reduction with patience=5\")\n",
        "\n"
      ]
    },
    {
      "cell_type": "code",
      "execution_count": 24,
      "metadata": {
        "colab": {
          "base_uri": "https://localhost:8080/"
        },
        "id": "FbDHumdLPCHK",
        "outputId": "6521ae3d-15c4-4fba-9633-7997eaac3cc4"
      },
      "outputs": [
        {
          "name": "stdout",
          "output_type": "stream",
          "text": [
            "Steps per epoch: 25\n",
            "Validation steps: 6\n",
            "Starting training...\n",
            "Epoch 1/30\n",
            "\u001b[1m25/25\u001b[0m \u001b[32m━━━━━━━━━━━━━━━━━━━━\u001b[0m\u001b[37m\u001b[0m \u001b[1m31s\u001b[0m 1s/step - accuracy: 0.7521 - loss: 0.5528 - val_accuracy: 0.8073 - val_loss: 0.4139 - learning_rate: 0.0010\n",
            "Epoch 2/30\n",
            "\u001b[1m25/25\u001b[0m \u001b[32m━━━━━━━━━━━━━━━━━━━━\u001b[0m\u001b[37m\u001b[0m \u001b[1m28s\u001b[0m 1s/step - accuracy: 0.8240 - loss: 0.3987 - val_accuracy: 0.8438 - val_loss: 0.3597 - learning_rate: 0.0010\n",
            "Epoch 3/30\n",
            "\u001b[1m25/25\u001b[0m \u001b[32m━━━━━━━━━━━━━━━━━━━━\u001b[0m\u001b[37m\u001b[0m \u001b[1m40s\u001b[0m 1s/step - accuracy: 0.8347 - loss: 0.3472 - val_accuracy: 0.8542 - val_loss: 0.3204 - learning_rate: 0.0010\n",
            "Epoch 4/30\n",
            "\u001b[1m25/25\u001b[0m \u001b[32m━━━━━━━━━━━━━━━━━━━━\u001b[0m\u001b[37m\u001b[0m \u001b[1m41s\u001b[0m 1s/step - accuracy: 0.8873 - loss: 0.2734 - val_accuracy: 0.8698 - val_loss: 0.3091 - learning_rate: 0.0010\n",
            "Epoch 5/30\n",
            "\u001b[1m25/25\u001b[0m \u001b[32m━━━━━━━━━━━━━━━━━━━━\u001b[0m\u001b[37m\u001b[0m \u001b[1m41s\u001b[0m 1s/step - accuracy: 0.8895 - loss: 0.2701 - val_accuracy: 0.8958 - val_loss: 0.2661 - learning_rate: 0.0010\n",
            "Epoch 6/30\n",
            "\u001b[1m25/25\u001b[0m \u001b[32m━━━━━━━━━━━━━━━━━━━━\u001b[0m\u001b[37m\u001b[0m \u001b[1m27s\u001b[0m 1s/step - accuracy: 0.9036 - loss: 0.2552 - val_accuracy: 0.8854 - val_loss: 0.2765 - learning_rate: 0.0010\n",
            "Epoch 7/30\n",
            "\u001b[1m25/25\u001b[0m \u001b[32m━━━━━━━━━━━━━━━━━━━━\u001b[0m\u001b[37m\u001b[0m \u001b[1m27s\u001b[0m 1s/step - accuracy: 0.8992 - loss: 0.2216 - val_accuracy: 0.8906 - val_loss: 0.2334 - learning_rate: 0.0010\n",
            "Epoch 8/30\n",
            "\u001b[1m25/25\u001b[0m \u001b[32m━━━━━━━━━━━━━━━━━━━━\u001b[0m\u001b[37m\u001b[0m \u001b[1m41s\u001b[0m 1s/step - accuracy: 0.8957 - loss: 0.2448 - val_accuracy: 0.8906 - val_loss: 0.2478 - learning_rate: 0.0010\n",
            "Epoch 9/30\n",
            "\u001b[1m25/25\u001b[0m \u001b[32m━━━━━━━━━━━━━━━━━━━━\u001b[0m\u001b[37m\u001b[0m \u001b[1m27s\u001b[0m 1s/step - accuracy: 0.9341 - loss: 0.1901 - val_accuracy: 0.8906 - val_loss: 0.2604 - learning_rate: 0.0010\n",
            "Epoch 10/30\n",
            "\u001b[1m25/25\u001b[0m \u001b[32m━━━━━━━━━━━━━━━━━━━━\u001b[0m\u001b[37m\u001b[0m \u001b[1m27s\u001b[0m 1s/step - accuracy: 0.9189 - loss: 0.2111 - val_accuracy: 0.8854 - val_loss: 0.2407 - learning_rate: 0.0010\n",
            "Epoch 11/30\n",
            "\u001b[1m25/25\u001b[0m \u001b[32m━━━━━━━━━━━━━━━━━━━━\u001b[0m\u001b[37m\u001b[0m \u001b[1m41s\u001b[0m 1s/step - accuracy: 0.9326 - loss: 0.1922 - val_accuracy: 0.8958 - val_loss: 0.2354 - learning_rate: 0.0010\n",
            "Epoch 12/30\n",
            "\u001b[1m25/25\u001b[0m \u001b[32m━━━━━━━━━━━━━━━━━━━━\u001b[0m\u001b[37m\u001b[0m \u001b[1m0s\u001b[0m 1s/step - accuracy: 0.9418 - loss: 0.1464   \n",
            "Epoch 12: ReduceLROnPlateau reducing learning rate to 0.00020000000949949026.\n",
            "\u001b[1m25/25\u001b[0m \u001b[32m━━━━━━━━━━━━━━━━━━━━\u001b[0m\u001b[37m\u001b[0m \u001b[1m42s\u001b[0m 1s/step - accuracy: 0.9418 - loss: 0.1467 - val_accuracy: 0.9062 - val_loss: 0.2390 - learning_rate: 0.0010\n",
            "Epoch 13/30\n",
            "\u001b[1m25/25\u001b[0m \u001b[32m━━━━━━━━━━━━━━━━━━━━\u001b[0m\u001b[37m\u001b[0m \u001b[1m27s\u001b[0m 1s/step - accuracy: 0.9231 - loss: 0.1967 - val_accuracy: 0.9062 - val_loss: 0.2354 - learning_rate: 2.0000e-04\n",
            "Epoch 14/30\n",
            "\u001b[1m25/25\u001b[0m \u001b[32m━━━━━━━━━━━━━━━━━━━━\u001b[0m\u001b[37m\u001b[0m \u001b[1m27s\u001b[0m 1s/step - accuracy: 0.9153 - loss: 0.1902 - val_accuracy: 0.8906 - val_loss: 0.2394 - learning_rate: 2.0000e-04\n",
            "Epoch 15/30\n",
            "\u001b[1m25/25\u001b[0m \u001b[32m━━━━━━━━━━━━━━━━━━━━\u001b[0m\u001b[37m\u001b[0m \u001b[1m41s\u001b[0m 1s/step - accuracy: 0.9171 - loss: 0.2136 - val_accuracy: 0.8958 - val_loss: 0.2327 - learning_rate: 2.0000e-04\n",
            "Epoch 16/30\n",
            "\u001b[1m25/25\u001b[0m \u001b[32m━━━━━━━━━━━━━━━━━━━━\u001b[0m\u001b[37m\u001b[0m \u001b[1m41s\u001b[0m 1s/step - accuracy: 0.9223 - loss: 0.1752 - val_accuracy: 0.8854 - val_loss: 0.2362 - learning_rate: 2.0000e-04\n",
            "Epoch 17/30\n",
            "\u001b[1m25/25\u001b[0m \u001b[32m━━━━━━━━━━━━━━━━━━━━\u001b[0m\u001b[37m\u001b[0m \u001b[1m41s\u001b[0m 1s/step - accuracy: 0.9480 - loss: 0.1444 - val_accuracy: 0.8958 - val_loss: 0.2363 - learning_rate: 2.0000e-04\n",
            "Epoch 18/30\n",
            "\u001b[1m25/25\u001b[0m \u001b[32m━━━━━━━━━━━━━━━━━━━━\u001b[0m\u001b[37m\u001b[0m \u001b[1m40s\u001b[0m 1s/step - accuracy: 0.9402 - loss: 0.1625 - val_accuracy: 0.8906 - val_loss: 0.2365 - learning_rate: 2.0000e-04\n",
            "Epoch 19/30\n",
            "\u001b[1m25/25\u001b[0m \u001b[32m━━━━━━━━━━━━━━━━━━━━\u001b[0m\u001b[37m\u001b[0m \u001b[1m41s\u001b[0m 1s/step - accuracy: 0.9473 - loss: 0.1535 - val_accuracy: 0.8906 - val_loss: 0.2401 - learning_rate: 2.0000e-04\n",
            "Epoch 20/30\n",
            "\u001b[1m25/25\u001b[0m \u001b[32m━━━━━━━━━━━━━━━━━━━━\u001b[0m\u001b[37m\u001b[0m \u001b[1m0s\u001b[0m 990ms/step - accuracy: 0.9531 - loss: 0.1542\n",
            "Epoch 20: ReduceLROnPlateau reducing learning rate to 4.0000001899898055e-05.\n",
            "\u001b[1m25/25\u001b[0m \u001b[32m━━━━━━━━━━━━━━━━━━━━\u001b[0m\u001b[37m\u001b[0m \u001b[1m41s\u001b[0m 1s/step - accuracy: 0.9531 - loss: 0.1536 - val_accuracy: 0.8958 - val_loss: 0.2397 - learning_rate: 2.0000e-04\n",
            "Epoch 21/30\n",
            "\u001b[1m25/25\u001b[0m \u001b[32m━━━━━━━━━━━━━━━━━━━━\u001b[0m\u001b[37m\u001b[0m \u001b[1m27s\u001b[0m 1s/step - accuracy: 0.9278 - loss: 0.1734 - val_accuracy: 0.8958 - val_loss: 0.2388 - learning_rate: 4.0000e-05\n",
            "Epoch 22/30\n",
            "\u001b[1m25/25\u001b[0m \u001b[32m━━━━━━━━━━━━━━━━━━━━\u001b[0m\u001b[37m\u001b[0m \u001b[1m27s\u001b[0m 1s/step - accuracy: 0.9355 - loss: 0.1531 - val_accuracy: 0.8906 - val_loss: 0.2381 - learning_rate: 4.0000e-05\n",
            "Epoch 23/30\n",
            "\u001b[1m25/25\u001b[0m \u001b[32m━━━━━━━━━━━━━━━━━━━━\u001b[0m\u001b[37m\u001b[0m \u001b[1m41s\u001b[0m 1s/step - accuracy: 0.9427 - loss: 0.1449 - val_accuracy: 0.8958 - val_loss: 0.2370 - learning_rate: 4.0000e-05\n",
            "Epoch 24/30\n",
            "\u001b[1m25/25\u001b[0m \u001b[32m━━━━━━━━━━━━━━━━━━━━\u001b[0m\u001b[37m\u001b[0m \u001b[1m41s\u001b[0m 1s/step - accuracy: 0.9539 - loss: 0.1406 - val_accuracy: 0.8906 - val_loss: 0.2360 - learning_rate: 4.0000e-05\n",
            "Epoch 25/30\n",
            "\u001b[1m25/25\u001b[0m \u001b[32m━━━━━━━━━━━━━━━━━━━━\u001b[0m\u001b[37m\u001b[0m \u001b[1m0s\u001b[0m 986ms/step - accuracy: 0.9391 - loss: 0.1349\n",
            "Epoch 25: ReduceLROnPlateau reducing learning rate to 8.000000525498762e-06.\n",
            "\u001b[1m25/25\u001b[0m \u001b[32m━━━━━━━━━━━━━━━━━━━━\u001b[0m\u001b[37m\u001b[0m \u001b[1m26s\u001b[0m 1s/step - accuracy: 0.9393 - loss: 0.1347 - val_accuracy: 0.8958 - val_loss: 0.2352 - learning_rate: 4.0000e-05\n",
            "Epoch 25: early stopping\n",
            "Restoring model weights from the end of the best epoch: 15.\n",
            "Training completed!\n"
          ]
        }
      ],
      "source": [
        "\n",
        "steps_per_epoch = train_generator.samples // train_generator.batch_size\n",
        "validation_steps = validation_generator.samples // validation_generator.batch_size\n",
        "\n",
        "print(f\"Steps per epoch: {steps_per_epoch}\")\n",
        "print(f\"Validation steps: {validation_steps}\")\n",
        "\n",
        "EPOCHS = 30\n",
        "\n",
        "print(\"Starting training...\")\n",
        "history = model.fit(\n",
        "    train_generator,\n",
        "    steps_per_epoch=steps_per_epoch,\n",
        "    epochs=EPOCHS,\n",
        "    validation_data=validation_generator,\n",
        "    validation_steps=validation_steps,\n",
        "    callbacks=callbacks,\n",
        "    verbose=1\n",
        ")\n",
        "\n",
        "print(\"Training completed!\")\n"
      ]
    },
    {
      "cell_type": "code",
      "execution_count": 25,
      "metadata": {
        "colab": {
          "base_uri": "https://localhost:8080/",
          "height": 569
        },
        "id": "nV4myzymTka_",
        "outputId": "8b5cb793-b997-4b09-e6ff-506dad6e1714"
      },
      "outputs": [
        {
          "data": {
            "image/png": "[encoded data removed]",
            "text/plain": [
              "<Figure size 1500x500 with 2 Axes>"
            ]
          },
          "metadata": {},
          "output_type": "display_data"
        },
        {
          "name": "stdout",
          "output_type": "stream",
          "text": [
            "\n",
            "Final Training Accuracy: 0.9463\n",
            "Final Validation Accuracy: 0.8958\n",
            "Final Training Loss: 0.1283\n",
            "Final Validation Loss: 0.2352\n"
          ]
        }
      ],
      "source": [
        "\n",
        "fig, axes = plt.subplots(1, 2, figsize=(15, 5))\n",
        "\n",
        "axes[0].plot(history.history['accuracy'], label='Training Accuracy', linewidth=2)\n",
        "axes[0].plot(history.history['val_accuracy'], label='Validation Accuracy', linewidth=2)\n",
        "axes[0].set_title('Model Accuracy', fontsize=14, fontweight='bold')\n",
        "axes[0].set_xlabel('Epoch')\n",
        "axes[0].set_ylabel('Accuracy')\n",
        "axes[0].legend()\n",
        "axes[0].grid(True, alpha=0.3)\n",
        "\n",
        "axes[1].plot(history.history['loss'], label='Training Loss', linewidth=2)\n",
        "axes[1].plot(history.history['val_loss'], label='Validation Loss', linewidth=2)\n",
        "axes[1].set_title('Model Loss', fontsize=14, fontweight='bold')\n",
        "axes[1].set_xlabel('Epoch')\n",
        "axes[1].set_ylabel('Loss')\n",
        "axes[1].legend()\n",
        "axes[1].grid(True, alpha=0.3)\n",
        "\n",
        "plt.tight_layout()\n",
        "plt.show()\n",
        "\n",
        "\n",
        "print(f\"\\nFinal Training Accuracy: {history.history['accuracy'][-1]:.4f}\")\n",
        "print(f\"Final Validation Accuracy: {history.history['val_accuracy'][-1]:.4f}\")\n",
        "print(f\"Final Training Loss: {history.history['loss'][-1]:.4f}\")\n",
        "print(f\"Final Validation Loss: {history.history['val_loss'][-1]:.4f}\")\n",
        "\n"
      ]
    },
    {
      "cell_type": "code",
      "execution_count": 36,
      "metadata": {
        "colab": {
          "base_uri": "https://localhost:8080/"
        },
        "id": "RIMaFe9uPIGd",
        "outputId": "f8b19e05-d08b-4602-9ac5-03180469d899"
      },
      "outputs": [
        {
          "name": "stdout",
          "output_type": "stream",
          "text": [
            "Evaluating model on test set...\n",
            "test Loss: 0.0983\n",
            "test Accuracy: 93.2421\n",
            "\n",
            "Generating predictions for confusion matrix...\n",
            "\u001b[1m7/7\u001b[0m \u001b[32m━━━━━━━━━━━━━━━━━━━━\u001b[0m\u001b[37m\u001b[0m \u001b[1m2s\u001b[0m 262ms/step\n",
            "\n",
            "Classification Report:\n",
            "                 precision    recall  f1-score   support\n",
            "\n",
            "    fire_images       0.92      0.95      0.93       151\n",
            "non_fire_images       0.82      0.75      0.78        48\n",
            "\n",
            "       accuracy                           0.90       199\n",
            "      macro avg       0.87      0.85      0.86       199\n",
            "   weighted avg       0.90      0.90      0.90       199\n",
            "\n"
          ]
        }
      ],
      "source": [
        "\n",
        "print(\"Evaluating model on test set...\")\n",
        "test_loss, test_accuracy = model.evaluate(test_gen, verbose=0)\n",
        "print(f\"test Loss: {test_loss:.4f}\")\n",
        "print(f\"test Accuracy: {test_accuracy:.4f}\")\n",
        "\n",
        "print(\"\\nGenerating predictions for confusion matrix...\")\n",
        "test_gen.reset()\n",
        "predictions = model.predict(test_gen, verbose=1)\n",
        "predicted_classes = (predictions > 0.5).astype(int).flatten()\n",
        "\n",
        "true_classes = test_gen.classes\n",
        "\n",
        "class_names = list(test_gen.class_indices.keys())\n",
        "print(\"\\nClassification Report:\")\n",
        "print(classification_report(true_classes, predicted_classes, target_names=class_names))\n"
      ]
    },
    {
      "cell_type": "code",
      "execution_count": null,
      "metadata": {
        "id": "UlZGJCshpJu8"
      },
      "outputs": [],
      "source": []
    },
    {
      "cell_type": "code",
      "execution_count": 38,
      "metadata": {
        "colab": {
          "base_uri": "https://localhost:8080/",
          "height": 816
        },
        "id": "U_ZmVDqiTsGi",
        "outputId": "62f0fa9d-b905-43a9-e993-6796debef044"
      },
      "outputs": [
        {
          "data": {
            "image/png": "[encoded data removed]",
            "text/plain": [
              "<Figure size 800x600 with 2 Axes>"
            ]
          },
          "metadata": {},
          "output_type": "display_data"
        },
        {
          "name": "stderr",
          "output_type": "stream",
          "text": [
            "WARNING:absl:You are saving your model as an HDF5 file via `model.save()` or `keras.saving.save_model(model)`. This file format is considered legacy. We recommend using instead the native Keras format, e.g. `model.save('my_model.keras')` or `keras.saving.save_model(model, 'my_model.keras')`. \n"
          ]
        },
        {
          "name": "stdout",
          "output_type": "stream",
          "text": [
            "\n",
            "Detailed Metrics:\n",
            "True Positives: 36\n",
            "True Negatives: 143\n",
            "False Positives: 8\n",
            "False Negatives: 12\n",
            "Precision: 0.8182\n",
            "Recall: 0.7500\n",
            "Specificity: 0.9470\n",
            "F1-Score: 0.7826\n",
            "Model saved as 'fire_classification_vgg16_model.h5'\n",
            "Training history saved as 'training_history.pkl'\n"
          ]
        }
      ],
      "source": [
        "cm = confusion_matrix(true_classes, predicted_classes)\n",
        "\n",
        "plt.figure(figsize=(8, 6))\n",
        "sns.heatmap(cm, annot=True, fmt='d', cmap='Blues',\n",
        "            xticklabels=class_names, yticklabels=class_names,\n",
        "            cbar_kws={\"shrink\": .8})\n",
        "plt.title('Confusion Matrix', fontsize=16, fontweight='bold')\n",
        "plt.xlabel('Predicted Label', fontsize=12)\n",
        "plt.ylabel('True Label', fontsize=12)\n",
        "plt.show()\n",
        "\n",
        "tn, fp, fn, tp = cm.ravel()\n",
        "precision = tp / (tp + fp)\n",
        "recall = tp / (tp + fn)\n",
        "f1_score = 2 * (precision * recall) / (precision + recall)\n",
        "specificity = tn / (tn + fp)\n",
        "\n",
        "print(f\"\\nDetailed Metrics:\")\n",
        "print(f\"True Positives: {tp}\")\n",
        "print(f\"True Negatives: {tn}\")\n",
        "print(f\"False Positives: {fp}\")\n",
        "print(f\"False Negatives: {fn}\")\n",
        "print(f\"Precision: {precision:.4f}\")\n",
        "print(f\"Recall: {recall:.4f}\")\n",
        "print(f\"Specificity: {specificity:.4f}\")\n",
        "print(f\"F1-Score: {f1_score:.4f}\")\n",
        "\n",
        "# ===================================================================\n",
        "\n",
        "\n",
        "model.save('fire_classification_vgg16_model.h5')\n",
        "print(\"Model saved as 'fire_classification_vgg16_model.h5'\")\n",
        "\n",
        "import pickle\n",
        "with open('training_history.pkl', 'wb') as file:\n",
        "    pickle.dump(history.history, file)\n",
        "print(\"Training history saved as 'training_history.pkl'\")"
      ]
    },
    {
      "cell_type": "code",
      "execution_count": null,
      "metadata": {
        "colab": {
          "base_uri": "https://localhost:8080/"
        },
        "id": "w_WTE3JCTzax",
        "outputId": "c7d698ff-59e7-485e-e6ab-d2d2869bc91a"
      },
      "outputs": [
        {
          "name": "stdout",
          "output_type": "stream",
          "text": [
            "Prediction function defined. Use it to test individual images.\n",
            "Project completed successfully!\n"
          ]
        }
      ],
      "source": [
        "\n",
        "def predict_single_image(model, img_path, class_names):\n",
        "    \"\"\"\n",
        "    Predict the class of a single image\n",
        "    \"\"\"\n",
        "    from tensorflow.keras.preprocessing import image\n",
        "\n",
        "    img = image.load_img(img_path, target_size=(IMG_HEIGHT, IMG_WIDTH))\n",
        "    img_array = image.img_to_array(img)\n",
        "    img_array = np.expand_dims(img_array, axis=0)\n",
        "    img_array /= 255.0\n",
        "\n",
        "    prediction = model.predict(img_array)[0][0]\n",
        "    predicted_class = class_names[1] if prediction > 0.5 else class_names[0]\n",
        "    confidence = prediction if prediction > 0.5 else 1 - prediction\n",
        "\n",
        "    return predicted_class, confidence\n",
        "\n",
        "\n"
      ]
    },
    {
      "cell_type": "code",
      "execution_count": null,
      "metadata": {
        "colab": {
          "base_uri": "https://localhost:8080/"
        },
        "id": "PSYMHOjKURvo",
        "outputId": "49cefb3d-7926-4492-eb1c-8f300114e046"
      },
      "outputs": [
        {
          "name": "stdout",
          "output_type": "stream",
          "text": [
            "fire.100.png  fire.237.png  fire.373.png  fire.509.png\tfire.645.png\n",
            "fire.101.png  fire.238.png  fire.374.png  fire.50.png\tfire.646.png\n",
            "fire.102.png  fire.239.png  fire.375.png  fire.510.png\tfire.647.png\n",
            "fire.103.png  fire.23.png   fire.376.png  fire.511.png\tfire.648.png\n",
            "fire.104.png  fire.240.png  fire.377.png  fire.512.png\tfire.649.png\n",
            "fire.105.png  fire.241.png  fire.378.png  fire.513.png\tfire.64.png\n",
            "fire.106.png  fire.242.png  fire.379.png  fire.514.png\tfire.650.png\n",
            "fire.107.png  fire.243.png  fire.37.png   fire.515.png\tfire.651.png\n",
            "fire.108.png  fire.244.png  fire.380.png  fire.516.png\tfire.652.png\n",
            "fire.109.png  fire.245.png  fire.381.png  fire.517.png\tfire.653.png\n",
            "fire.10.png   fire.246.png  fire.382.png  fire.518.png\tfire.654.png\n",
            "fire.110.png  fire.247.png  fire.383.png  fire.519.png\tfire.655.png\n",
            "fire.111.png  fire.248.png  fire.384.png  fire.51.png\tfire.656.png\n",
            "fire.112.png  fire.249.png  fire.385.png  fire.520.png\tfire.657.png\n",
            "fire.113.png  fire.24.png   fire.386.png  fire.521.png\tfire.658.png\n",
            "fire.114.png  fire.250.png  fire.387.png  fire.522.png\tfire.659.png\n",
            "fire.115.png  fire.251.png  fire.388.png  fire.523.png\tfire.65.png\n",
            "fire.116.png  fire.252.png  fire.389.png  fire.524.png\tfire.660.png\n",
            "fire.117.png  fire.253.png  fire.38.png   fire.525.png\tfire.661.png\n",
            "fire.118.png  fire.254.png  fire.390.png  fire.526.png\tfire.662.png\n",
            "fire.119.png  fire.255.png  fire.391.png  fire.527.png\tfire.663.png\n",
            "fire.11.png   fire.256.png  fire.392.png  fire.528.png\tfire.664.png\n",
            "fire.120.png  fire.257.png  fire.393.png  fire.529.png\tfire.665.png\n",
            "fire.121.png  fire.258.png  fire.394.png  fire.52.png\tfire.666.png\n",
            "fire.122.png  fire.259.png  fire.395.png  fire.530.png\tfire.667.png\n",
            "fire.123.png  fire.25.png   fire.396.png  fire.531.png\tfire.668.png\n",
            "fire.124.png  fire.260.png  fire.397.png  fire.532.png\tfire.669.png\n",
            "fire.125.png  fire.261.png  fire.398.png  fire.533.png\tfire.66.png\n",
            "fire.126.png  fire.262.png  fire.399.png  fire.534.png\tfire.670.png\n",
            "fire.127.png  fire.263.png  fire.39.png   fire.535.png\tfire.671.png\n",
            "fire.128.png  fire.264.png  fire.3.png\t  fire.536.png\tfire.672.png\n",
            "fire.129.png  fire.265.png  fire.400.png  fire.537.png\tfire.673.png\n",
            "fire.12.png   fire.266.png  fire.401.png  fire.538.png\tfire.674.png\n",
            "fire.130.png  fire.267.png  fire.402.png  fire.539.png\tfire.675.png\n",
            "fire.131.png  fire.268.png  fire.403.png  fire.53.png\tfire.676.png\n",
            "fire.132.png  fire.269.png  fire.404.png  fire.540.png\tfire.677.png\n",
            "fire.133.png  fire.26.png   fire.405.png  fire.541.png\tfire.678.png\n",
            "fire.134.png  fire.270.png  fire.406.png  fire.542.png\tfire.679.png\n",
            "fire.135.png  fire.271.png  fire.407.png  fire.543.png\tfire.67.png\n",
            "fire.136.png  fire.272.png  fire.408.png  fire.544.png\tfire.680.png\n",
            "fire.137.png  fire.273.png  fire.409.png  fire.545.png\tfire.681.png\n",
            "fire.138.png  fire.274.png  fire.40.png   fire.546.png\tfire.682.png\n",
            "fire.139.png  fire.275.png  fire.410.png  fire.547.png\tfire.683.png\n",
            "fire.13.png   fire.276.png  fire.411.png  fire.548.png\tfire.684.png\n",
            "fire.140.png  fire.277.png  fire.412.png  fire.549.png\tfire.685.png\n",
            "fire.141.png  fire.278.png  fire.413.png  fire.54.png\tfire.686.png\n",
            "fire.142.png  fire.279.png  fire.414.png  fire.550.png\tfire.687.png\n",
            "fire.143.png  fire.27.png   fire.415.png  fire.551.png\tfire.688.png\n",
            "fire.144.png  fire.280.png  fire.416.png  fire.552.png\tfire.689.png\n",
            "fire.145.png  fire.281.png  fire.417.png  fire.553.png\tfire.68.png\n",
            "fire.146.png  fire.282.png  fire.418.png  fire.554.png\tfire.690.png\n",
            "fire.147.png  fire.283.png  fire.419.png  fire.555.png\tfire.691.png\n",
            "fire.148.png  fire.284.png  fire.41.png   fire.556.png\tfire.692.png\n",
            "fire.149.png  fire.285.png  fire.420.png  fire.557.png\tfire.693.png\n",
            "fire.14.png   fire.286.png  fire.421.png  fire.558.png\tfire.694.png\n",
            "fire.150.png  fire.287.png  fire.422.png  fire.559.png\tfire.695.png\n",
            "fire.151.png  fire.288.png  fire.423.png  fire.55.png\tfire.696.png\n",
            "fire.152.png  fire.289.png  fire.424.png  fire.560.png\tfire.697.png\n",
            "fire.153.png  fire.28.png   fire.425.png  fire.561.png\tfire.698.png\n",
            "fire.154.png  fire.290.png  fire.426.png  fire.562.png\tfire.699.png\n",
            "fire.155.png  fire.291.png  fire.427.png  fire.563.png\tfire.69.png\n",
            "fire.156.png  fire.292.png  fire.428.png  fire.564.png\tfire.6.png\n",
            "fire.157.png  fire.293.png  fire.429.png  fire.565.png\tfire.700.png\n",
            "fire.158.png  fire.294.png  fire.42.png   fire.566.png\tfire.701.png\n",
            "fire.159.png  fire.295.png  fire.430.png  fire.567.png\tfire.702.png\n",
            "fire.15.png   fire.296.png  fire.431.png  fire.568.png\tfire.703.png\n",
            "fire.160.png  fire.297.png  fire.432.png  fire.569.png\tfire.704.png\n",
            "fire.161.png  fire.298.png  fire.433.png  fire.56.png\tfire.705.png\n",
            "fire.162.png  fire.299.png  fire.434.png  fire.570.png\tfire.706.png\n",
            "fire.163.png  fire.29.png   fire.435.png  fire.571.png\tfire.707.png\n",
            "fire.164.png  fire.2.png    fire.436.png  fire.572.png\tfire.708.png\n",
            "fire.165.png  fire.300.png  fire.437.png  fire.573.png\tfire.709.png\n",
            "fire.166.png  fire.301.png  fire.438.png  fire.574.png\tfire.70.png\n",
            "fire.167.png  fire.302.png  fire.439.png  fire.575.png\tfire.710.png\n",
            "fire.168.png  fire.303.png  fire.43.png   fire.576.png\tfire.711.png\n",
            "fire.169.png  fire.304.png  fire.440.png  fire.577.png\tfire.712.png\n",
            "fire.16.png   fire.305.png  fire.441.png  fire.578.png\tfire.713.png\n",
            "fire.170.png  fire.306.png  fire.442.png  fire.579.png\tfire.714.png\n",
            "fire.171.png  fire.307.png  fire.443.png  fire.57.png\tfire.715.png\n",
            "fire.172.png  fire.308.png  fire.444.png  fire.580.png\tfire.716.png\n",
            "fire.173.png  fire.309.png  fire.445.png  fire.581.png\tfire.717.png\n",
            "fire.174.png  fire.30.png   fire.446.png  fire.582.png\tfire.718.png\n",
            "fire.175.png  fire.310.png  fire.447.png  fire.583.png\tfire.719.png\n",
            "fire.176.png  fire.311.png  fire.448.png  fire.584.png\tfire.71.png\n",
            "fire.177.png  fire.312.png  fire.449.png  fire.585.png\tfire.720.png\n",
            "fire.178.png  fire.313.png  fire.44.png   fire.586.png\tfire.721.png\n",
            "fire.179.png  fire.314.png  fire.450.png  fire.587.png\tfire.722.png\n",
            "fire.17.png   fire.315.png  fire.451.png  fire.588.png\tfire.723.png\n",
            "fire.180.png  fire.316.png  fire.452.png  fire.589.png\tfire.724.png\n",
            "fire.181.png  fire.317.png  fire.453.png  fire.58.png\tfire.725.png\n",
            "fire.182.png  fire.318.png  fire.454.png  fire.590.png\tfire.726.png\n",
            "fire.183.png  fire.319.png  fire.455.png  fire.591.png\tfire.727.png\n",
            "fire.184.png  fire.31.png   fire.456.png  fire.592.png\tfire.728.png\n",
            "fire.185.png  fire.320.png  fire.457.png  fire.593.png\tfire.729.png\n",
            "fire.186.png  fire.321.png  fire.458.png  fire.594.png\tfire.72.png\n",
            "fire.187.png  fire.322.png  fire.459.png  fire.595.png\tfire.730.png\n",
            "fire.188.png  fire.323.png  fire.45.png   fire.596.png\tfire.731.png\n",
            "fire.189.png  fire.324.png  fire.460.png  fire.597.png\tfire.732.png\n",
            "fire.18.png   fire.325.png  fire.461.png  fire.598.png\tfire.733.png\n",
            "fire.190.png  fire.326.png  fire.462.png  fire.599.png\tfire.734.png\n",
            "fire.191.png  fire.327.png  fire.463.png  fire.59.png\tfire.735.png\n",
            "fire.192.png  fire.328.png  fire.464.png  fire.5.png\tfire.736.png\n",
            "fire.193.png  fire.329.png  fire.465.png  fire.600.png\tfire.737.png\n",
            "fire.194.png  fire.32.png   fire.466.png  fire.601.png\tfire.738.png\n",
            "fire.195.png  fire.330.png  fire.467.png  fire.602.png\tfire.739.png\n",
            "fire.196.png  fire.331.png  fire.468.png  fire.603.png\tfire.73.png\n",
            "fire.197.png  fire.332.png  fire.469.png  fire.604.png\tfire.740.png\n",
            "fire.198.png  fire.333.png  fire.46.png   fire.605.png\tfire.741.png\n",
            "fire.199.png  fire.334.png  fire.470.png  fire.606.png\tfire.742.png\n",
            "fire.19.png   fire.335.png  fire.471.png  fire.607.png\tfire.743.png\n",
            "fire.1.png    fire.336.png  fire.472.png  fire.608.png\tfire.744.png\n",
            "fire.200.png  fire.337.png  fire.473.png  fire.609.png\tfire.745.png\n",
            "fire.201.png  fire.338.png  fire.474.png  fire.60.png\tfire.746.png\n",
            "fire.202.png  fire.339.png  fire.475.png  fire.610.png\tfire.747.png\n",
            "fire.203.png  fire.33.png   fire.476.png  fire.611.png\tfire.748.png\n",
            "fire.204.png  fire.340.png  fire.477.png  fire.612.png\tfire.749.png\n",
            "fire.205.png  fire.341.png  fire.478.png  fire.613.png\tfire.74.png\n",
            "fire.206.png  fire.342.png  fire.479.png  fire.614.png\tfire.750.png\n",
            "fire.207.png  fire.343.png  fire.47.png   fire.615.png\tfire.751.png\n",
            "fire.208.png  fire.344.png  fire.480.png  fire.616.png\tfire.752.png\n",
            "fire.209.png  fire.345.png  fire.481.png  fire.617.png\tfire.753.png\n",
            "fire.20.png   fire.346.png  fire.482.png  fire.618.png\tfire.754.png\n",
            "fire.210.png  fire.347.png  fire.483.png  fire.619.png\tfire.755.png\n",
            "fire.211.png  fire.348.png  fire.484.png  fire.61.png\tfire.75.png\n",
            "fire.212.png  fire.349.png  fire.485.png  fire.620.png\tfire.76.png\n",
            "fire.213.png  fire.34.png   fire.486.png  fire.621.png\tfire.77.png\n",
            "fire.214.png  fire.350.png  fire.487.png  fire.622.png\tfire.78.png\n",
            "fire.215.png  fire.351.png  fire.488.png  fire.623.png\tfire.79.png\n",
            "fire.216.png  fire.352.png  fire.489.png  fire.624.png\tfire.7.png\n",
            "fire.217.png  fire.353.png  fire.48.png   fire.625.png\tfire.80.png\n",
            "fire.218.png  fire.354.png  fire.490.png  fire.626.png\tfire.81.png\n",
            "fire.219.png  fire.355.png  fire.491.png  fire.627.png\tfire.82.png\n",
            "fire.21.png   fire.356.png  fire.492.png  fire.628.png\tfire.83.png\n",
            "fire.220.png  fire.357.png  fire.493.png  fire.629.png\tfire.84.png\n",
            "fire.221.png  fire.358.png  fire.494.png  fire.62.png\tfire.85.png\n",
            "fire.222.png  fire.359.png  fire.495.png  fire.630.png\tfire.86.png\n",
            "fire.223.png  fire.35.png   fire.496.png  fire.631.png\tfire.87.png\n",
            "fire.224.png  fire.360.png  fire.497.png  fire.632.png\tfire.88.png\n",
            "fire.225.png  fire.361.png  fire.498.png  fire.633.png\tfire.89.png\n",
            "fire.226.png  fire.362.png  fire.499.png  fire.634.png\tfire.8.png\n",
            "fire.227.png  fire.363.png  fire.49.png   fire.635.png\tfire.90.png\n",
            "fire.228.png  fire.364.png  fire.4.png\t  fire.636.png\tfire.91.png\n",
            "fire.229.png  fire.365.png  fire.500.png  fire.637.png\tfire.92.png\n",
            "fire.22.png   fire.366.png  fire.501.png  fire.638.png\tfire.93.png\n",
            "fire.230.png  fire.367.png  fire.502.png  fire.639.png\tfire.94.png\n",
            "fire.231.png  fire.368.png  fire.503.png  fire.63.png\tfire.95.png\n",
            "fire.232.png  fire.369.png  fire.504.png  fire.640.png\tfire.96.png\n",
            "fire.233.png  fire.36.png   fire.505.png  fire.641.png\tfire.97.png\n",
            "fire.234.png  fire.370.png  fire.506.png  fire.642.png\tfire.98.png\n",
            "fire.235.png  fire.371.png  fire.507.png  fire.643.png\tfire.99.png\n",
            "fire.236.png  fire.372.png  fire.508.png  fire.644.png\tfire.9.png\n"
          ]
        }
      ],
      "source": [
        "!ls {path}/fire_images"
      ]
    },
    {
      "cell_type": "code",
      "execution_count": null,
      "metadata": {
        "id": "15A3-poLUNjY"
      },
      "outputs": [],
      "source": [
        "sample_img_path = f\"{path}/fire_images/fire.506.png\""
      ]
    },
    {
      "cell_type": "code",
      "execution_count": null,
      "metadata": {
        "colab": {
          "base_uri": "https://localhost:8080/",
          "height": 36
        },
        "id": "1AfJ78IHUrKP",
        "outputId": "87ac81b9-7f6e-496a-afdb-3cfa22bab153"
      },
      "outputs": [
        {
          "data": {
            "application/vnd.google.colaboratory.intrinsic+json": {
              "type": "string"
            },
            "text/plain": [
              "'/root/.cache/kagglehub/datasets/phylake1337/fire-dataset/versions/1/fire_dataset/fire_images/fire.506.png'"
            ]
          },
          "execution_count": 22,
          "metadata": {},
          "output_type": "execute_result"
        }
      ],
      "source": [
        "sample_img_path"
      ]
    },
    {
      "cell_type": "code",
      "execution_count": null,
      "metadata": {
        "colab": {
          "base_uri": "https://localhost:8080/"
        },
        "id": "eht3KmsbUEPA",
        "outputId": "307161e2-84e0-4f7c-e16d-2cef6e9872b3"
      },
      "outputs": [
        {
          "name": "stdout",
          "output_type": "stream",
          "text": [
            "\u001b[1m1/1\u001b[0m \u001b[32m━━━━━━━━━━━━━━━━━━━━\u001b[0m\u001b[37m\u001b[0m \u001b[1m0s\u001b[0m 40ms/step\n",
            "Predicted class: fire_images\n",
            "Confidence: 0.9927\n"
          ]
        }
      ],
      "source": [
        "img_path = sample_img_path\n",
        "predicted_class, confidence = predict_single_image(model, img_path, class_names)\n",
        "print(f\"Predicted class: {predicted_class}\")\n",
        "print(f\"Confidence: {confidence:.4f}\")\n",
        "\n"
      ]
    },
    {
      "cell_type": "code",
      "execution_count": null,
      "metadata": {
        "id": "Yxv1cOT2Ut4c"
      },
      "outputs": [],
      "source": []
    }
  ],
  "metadata": {
    "accelerator": "GPU",
    "colab": {
      "gpuType": "T4",
      "provenance": []
    },
    "kernelspec": {
      "display_name": "Python 3",
      "name": "python3"
    },
    "language_info": {
      "name": "python"
    }
  },
  "nbformat": 4,
  "nbformat_minor": 0
}
